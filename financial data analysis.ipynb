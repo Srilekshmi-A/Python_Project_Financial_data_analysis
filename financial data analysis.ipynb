{
 "cells": [
  {
   "cell_type": "markdown",
   "id": "33404d61-8fb6-4230-a107-c08080d4ba07",
   "metadata": {},
   "source": [
    "#                                               FINANCIAL DATA ANALYSIS"
   ]
  },
  {
   "cell_type": "markdown",
   "id": "40ea0b6e-79e3-42bc-a2b6-7bcab7f5e635",
   "metadata": {},
   "source": [
    "### Importing necessary libraries"
   ]
  },
  {
   "cell_type": "code",
   "execution_count": 128,
   "id": "2b25bb49-7548-405c-954a-097d0f6e3d97",
   "metadata": {},
   "outputs": [],
   "source": [
    "import pandas as pd\n",
    "import numpy as np\n",
    "import seaborn as sns\n",
    "import matplotlib.pyplot as plt"
   ]
  },
  {
   "cell_type": "markdown",
   "id": "6d4f3ae2-a3e2-43e7-8dd6-f16f93cb5b5d",
   "metadata": {},
   "source": [
    "### Loading Data"
   ]
  },
  {
   "cell_type": "code",
   "execution_count": 129,
   "id": "892289e8-3c8f-4c34-8ed9-de01ee0c2f5c",
   "metadata": {},
   "outputs": [
    {
     "data": {
      "text/html": [
       "<div>\n",
       "<style scoped>\n",
       "    .dataframe tbody tr th:only-of-type {\n",
       "        vertical-align: middle;\n",
       "    }\n",
       "\n",
       "    .dataframe tbody tr th {\n",
       "        vertical-align: top;\n",
       "    }\n",
       "\n",
       "    .dataframe thead th {\n",
       "        text-align: right;\n",
       "    }\n",
       "</style>\n",
       "<table border=\"1\" class=\"dataframe\">\n",
       "  <thead>\n",
       "    <tr style=\"text-align: right;\">\n",
       "      <th></th>\n",
       "      <th>Segment</th>\n",
       "      <th>Country</th>\n",
       "      <th>Product</th>\n",
       "      <th>Discount Band</th>\n",
       "      <th>Units Sold</th>\n",
       "      <th>Manufacturing Price</th>\n",
       "      <th>Sale Price</th>\n",
       "      <th>Gross Sales</th>\n",
       "      <th>Discounts</th>\n",
       "      <th>Sales</th>\n",
       "      <th>COGS</th>\n",
       "      <th>Profit</th>\n",
       "      <th>Date</th>\n",
       "      <th>Month Number</th>\n",
       "      <th>Month Name</th>\n",
       "      <th>Year</th>\n",
       "    </tr>\n",
       "  </thead>\n",
       "  <tbody>\n",
       "    <tr>\n",
       "      <th>0</th>\n",
       "      <td>Government</td>\n",
       "      <td>Canada</td>\n",
       "      <td>Carretera</td>\n",
       "      <td>None</td>\n",
       "      <td>1618.5</td>\n",
       "      <td>$ 3.00</td>\n",
       "      <td>$ 20.00</td>\n",
       "      <td>$ 32,370.00</td>\n",
       "      <td>$ -</td>\n",
       "      <td>$ 32,370.00</td>\n",
       "      <td>$ 16,185.00</td>\n",
       "      <td>$ 16,185.00</td>\n",
       "      <td>1/1/2014</td>\n",
       "      <td>1</td>\n",
       "      <td>January</td>\n",
       "      <td>2014</td>\n",
       "    </tr>\n",
       "    <tr>\n",
       "      <th>1</th>\n",
       "      <td>Government</td>\n",
       "      <td>Germany</td>\n",
       "      <td>Carretera</td>\n",
       "      <td>None</td>\n",
       "      <td>1321.0</td>\n",
       "      <td>$ 3.00</td>\n",
       "      <td>$ 20.00</td>\n",
       "      <td>$ 26,420.00</td>\n",
       "      <td>$ -</td>\n",
       "      <td>$ 26,420.00</td>\n",
       "      <td>$ 13,210.00</td>\n",
       "      <td>$ 13,210.00</td>\n",
       "      <td>1/1/2014</td>\n",
       "      <td>1</td>\n",
       "      <td>January</td>\n",
       "      <td>2014</td>\n",
       "    </tr>\n",
       "    <tr>\n",
       "      <th>2</th>\n",
       "      <td>Midmarket</td>\n",
       "      <td>France</td>\n",
       "      <td>Carretera</td>\n",
       "      <td>None</td>\n",
       "      <td>2178.0</td>\n",
       "      <td>$ 3.00</td>\n",
       "      <td>$ 15.00</td>\n",
       "      <td>$ 32,670.00</td>\n",
       "      <td>$ -</td>\n",
       "      <td>$ 32,670.00</td>\n",
       "      <td>$ 21,780.00</td>\n",
       "      <td>$ 10,890.00</td>\n",
       "      <td>6/1/2014</td>\n",
       "      <td>6</td>\n",
       "      <td>June</td>\n",
       "      <td>2014</td>\n",
       "    </tr>\n",
       "    <tr>\n",
       "      <th>3</th>\n",
       "      <td>Midmarket</td>\n",
       "      <td>Germany</td>\n",
       "      <td>Carretera</td>\n",
       "      <td>None</td>\n",
       "      <td>888.0</td>\n",
       "      <td>$ 3.00</td>\n",
       "      <td>$ 15.00</td>\n",
       "      <td>$ 13,320.00</td>\n",
       "      <td>$ -</td>\n",
       "      <td>$ 13,320.00</td>\n",
       "      <td>$ 8,880.00</td>\n",
       "      <td>$ 4,440.00</td>\n",
       "      <td>6/1/2014</td>\n",
       "      <td>6</td>\n",
       "      <td>June</td>\n",
       "      <td>2014</td>\n",
       "    </tr>\n",
       "    <tr>\n",
       "      <th>4</th>\n",
       "      <td>Midmarket</td>\n",
       "      <td>Mexico</td>\n",
       "      <td>Carretera</td>\n",
       "      <td>None</td>\n",
       "      <td>2470.0</td>\n",
       "      <td>$ 3.00</td>\n",
       "      <td>$ 15.00</td>\n",
       "      <td>$ 37,050.00</td>\n",
       "      <td>$ -</td>\n",
       "      <td>$ 37,050.00</td>\n",
       "      <td>$ 24,700.00</td>\n",
       "      <td>$ 12,350.00</td>\n",
       "      <td>6/1/2014</td>\n",
       "      <td>6</td>\n",
       "      <td>June</td>\n",
       "      <td>2014</td>\n",
       "    </tr>\n",
       "  </tbody>\n",
       "</table>\n",
       "</div>"
      ],
      "text/plain": [
       "      Segment  Country     Product   Discount Band   Units Sold  \\\n",
       "0  Government   Canada   Carretera            None       1618.5   \n",
       "1  Government  Germany   Carretera            None       1321.0   \n",
       "2   Midmarket   France   Carretera            None       2178.0   \n",
       "3   Midmarket  Germany   Carretera            None        888.0   \n",
       "4   Midmarket   Mexico   Carretera            None       2470.0   \n",
       "\n",
       "   Manufacturing Price   Sale Price    Gross Sales   Discounts   \\\n",
       "0               $ 3.00      $ 20.00    $ 32,370.00       $ -      \n",
       "1               $ 3.00      $ 20.00    $ 26,420.00       $ -      \n",
       "2               $ 3.00      $ 15.00    $ 32,670.00       $ -      \n",
       "3               $ 3.00      $ 15.00    $ 13,320.00       $ -      \n",
       "4               $ 3.00      $ 15.00    $ 37,050.00       $ -      \n",
       "\n",
       "          Sales           COGS         Profit       Date  Month Number  \\\n",
       "0   $ 32,370.00    $ 16,185.00    $ 16,185.00   1/1/2014             1   \n",
       "1   $ 26,420.00    $ 13,210.00    $ 13,210.00   1/1/2014             1   \n",
       "2   $ 32,670.00    $ 21,780.00    $ 10,890.00   6/1/2014             6   \n",
       "3   $ 13,320.00     $ 8,880.00     $ 4,440.00   6/1/2014             6   \n",
       "4   $ 37,050.00    $ 24,700.00    $ 12,350.00   6/1/2014             6   \n",
       "\n",
       "   Month Name   Year  \n",
       "0     January   2014  \n",
       "1     January   2014  \n",
       "2        June   2014  \n",
       "3        June   2014  \n",
       "4        June   2014  "
      ]
     },
     "execution_count": 129,
     "metadata": {},
     "output_type": "execute_result"
    }
   ],
   "source": [
    "df=pd.read_csv('Financial Sample.xlsx - Sheet1.csv')\n",
    "df.head(5)"
   ]
  },
  {
   "cell_type": "markdown",
   "id": "3406dd67-039d-4e26-972e-694e10f39de4",
   "metadata": {},
   "source": [
    "### Data cleaning"
   ]
  },
  {
   "cell_type": "code",
   "execution_count": 130,
   "id": "ef1dc86c-b8d8-453b-b1b0-34526dbe8d1a",
   "metadata": {},
   "outputs": [],
   "source": [
    "df=df.replace('[\\$\\,\\(\\)\\-\\ ]','',regex=True)"
   ]
  },
  {
   "cell_type": "code",
   "execution_count": 131,
   "id": "ca7605c1-5e00-4b78-b811-7072fbb4fb52",
   "metadata": {},
   "outputs": [],
   "source": [
    "df.columns=df.columns.str.strip()"
   ]
  },
  {
   "cell_type": "code",
   "execution_count": 132,
   "id": "6e00712a-64c4-4e2f-a2aa-6e10c9ce1064",
   "metadata": {},
   "outputs": [
    {
     "data": {
      "text/plain": [
       "Index(['Segment', 'Country', 'Product', 'Discount Band', 'Units Sold',\n",
       "       'Manufacturing Price', 'Sale Price', 'Gross Sales', 'Discounts',\n",
       "       'Sales', 'COGS', 'Profit', 'Date', 'Month Number', 'Month Name',\n",
       "       'Year'],\n",
       "      dtype='object')"
      ]
     },
     "execution_count": 132,
     "metadata": {},
     "output_type": "execute_result"
    }
   ],
   "source": [
    "df.columns"
   ]
  },
  {
   "cell_type": "markdown",
   "id": "ac980519-4acc-43e2-871f-a809a33e239d",
   "metadata": {},
   "source": [
    "### Changing datatype"
   ]
  },
  {
   "cell_type": "code",
   "execution_count": 133,
   "id": "f22cdaf4-7583-4a87-ad7b-d5f89b55abf4",
   "metadata": {},
   "outputs": [
    {
     "name": "stdout",
     "output_type": "stream",
     "text": [
      "Segment                 object\n",
      "Country                 object\n",
      "Product                 object\n",
      "Discount Band           object\n",
      "Units Sold             float64\n",
      "Manufacturing Price    float64\n",
      "Sale Price             float64\n",
      "Gross Sales            float64\n",
      "Discounts              float64\n",
      "Sales                  float64\n",
      "COGS                   float64\n",
      "Profit                 float64\n",
      "Date                    object\n",
      "Month Number             int64\n",
      "Month Name              object\n",
      "Year                     int64\n",
      "dtype: object\n"
     ]
    }
   ],
   "source": [
    "col=['Manufacturing Price','Sale Price', 'Gross Sales', 'Discounts','Sales', 'COGS', 'Profit']\n",
    "df[col] = df[col].apply(pd.to_numeric)\n",
    "print(df.dtypes)"
   ]
  },
  {
   "cell_type": "markdown",
   "id": "4b4a2a83-7483-42b4-bc7e-d58dc21a8b86",
   "metadata": {},
   "source": [
    "#### Analysing Data and getting insights from it"
   ]
  },
  {
   "cell_type": "markdown",
   "id": "6407fb8c-992d-45e6-8de7-f56ae08f5ea8",
   "metadata": {},
   "source": [
    "### (1) Finding Months with highest and lowest sales ?"
   ]
  },
  {
   "cell_type": "code",
   "execution_count": 134,
   "id": "055befb7-9705-431a-bfad-b5a0341e514d",
   "metadata": {},
   "outputs": [
    {
     "data": {
      "text/html": [
       "<div>\n",
       "<style scoped>\n",
       "    .dataframe tbody tr th:only-of-type {\n",
       "        vertical-align: middle;\n",
       "    }\n",
       "\n",
       "    .dataframe tbody tr th {\n",
       "        vertical-align: top;\n",
       "    }\n",
       "\n",
       "    .dataframe thead th {\n",
       "        text-align: right;\n",
       "    }\n",
       "</style>\n",
       "<table border=\"1\" class=\"dataframe\">\n",
       "  <thead>\n",
       "    <tr style=\"text-align: right;\">\n",
       "      <th></th>\n",
       "      <th>Month Number</th>\n",
       "      <th>Sales</th>\n",
       "    </tr>\n",
       "  </thead>\n",
       "  <tbody>\n",
       "    <tr>\n",
       "      <th>0</th>\n",
       "      <td>10</td>\n",
       "      <td>21671431.02</td>\n",
       "    </tr>\n",
       "    <tr>\n",
       "      <th>1</th>\n",
       "      <td>12</td>\n",
       "      <td>17367228.98</td>\n",
       "    </tr>\n",
       "    <tr>\n",
       "      <th>2</th>\n",
       "      <td>11</td>\n",
       "      <td>12651417.50</td>\n",
       "    </tr>\n",
       "    <tr>\n",
       "      <th>3</th>\n",
       "      <td>9</td>\n",
       "      <td>10882697.27</td>\n",
       "    </tr>\n",
       "    <tr>\n",
       "      <th>4</th>\n",
       "      <td>6</td>\n",
       "      <td>9518893.82</td>\n",
       "    </tr>\n",
       "    <tr>\n",
       "      <th>5</th>\n",
       "      <td>7</td>\n",
       "      <td>8102920.19</td>\n",
       "    </tr>\n",
       "    <tr>\n",
       "      <th>6</th>\n",
       "      <td>2</td>\n",
       "      <td>7297531.39</td>\n",
       "    </tr>\n",
       "    <tr>\n",
       "      <th>7</th>\n",
       "      <td>4</td>\n",
       "      <td>6964775.08</td>\n",
       "    </tr>\n",
       "    <tr>\n",
       "      <th>8</th>\n",
       "      <td>1</td>\n",
       "      <td>6607761.69</td>\n",
       "    </tr>\n",
       "    <tr>\n",
       "      <th>9</th>\n",
       "      <td>5</td>\n",
       "      <td>6210211.06</td>\n",
       "    </tr>\n",
       "    <tr>\n",
       "      <th>10</th>\n",
       "      <td>8</td>\n",
       "      <td>5864622.42</td>\n",
       "    </tr>\n",
       "    <tr>\n",
       "      <th>11</th>\n",
       "      <td>3</td>\n",
       "      <td>5586859.87</td>\n",
       "    </tr>\n",
       "  </tbody>\n",
       "</table>\n",
       "</div>"
      ],
      "text/plain": [
       "    Month Number        Sales\n",
       "0             10  21671431.02\n",
       "1             12  17367228.98\n",
       "2             11  12651417.50\n",
       "3              9  10882697.27\n",
       "4              6   9518893.82\n",
       "5              7   8102920.19\n",
       "6              2   7297531.39\n",
       "7              4   6964775.08\n",
       "8              1   6607761.69\n",
       "9              5   6210211.06\n",
       "10             8   5864622.42\n",
       "11             3   5586859.87"
      ]
     },
     "execution_count": 134,
     "metadata": {},
     "output_type": "execute_result"
    }
   ],
   "source": [
    "dfmonthlysales=df.groupby('Month Number').sum()['Sales'].reset_index()\n",
    "dfmonthlysales.sort_values(by='Sales', ascending=False, ignore_index=True)"
   ]
  },
  {
   "cell_type": "markdown",
   "id": "59e0a6a5-e3be-4f50-ab6c-a7117bde8404",
   "metadata": {},
   "source": [
    "#### Sales was highest in the month of September and lowest in March"
   ]
  },
  {
   "cell_type": "markdown",
   "id": "aa102f27-f824-466b-954d-914ce2d7f7f8",
   "metadata": {},
   "source": [
    "### Visual Representation of Sales in different months"
   ]
  },
  {
   "cell_type": "code",
   "execution_count": 135,
   "id": "f3e6f983-e6cd-4511-958b-88077bb5d3fc",
   "metadata": {},
   "outputs": [
    {
     "data": {
      "image/png": "[encoded data removed]",
      "text/plain": [
       "<Figure size 500x300 with 1 Axes>"
      ]
     },
     "metadata": {},
     "output_type": "display_data"
    }
   ],
   "source": [
    "a=dfmonthlysales['Month Number']\n",
    "w=1\n",
    "y1bar=np.arange(len(a))\n",
    "plt.figure(figsize=(5,3))\n",
    "plt.bar(dfmonthlysales['Month Number'],dfmonthlysales['Sales'],color='y')\n",
    "plt.xlabel('Month Number')\n",
    "plt.xticks(y1bar+w,a)\n",
    "plt.ylabel('Sales')\n",
    "plt.title('Sales in each Month ')\n",
    "plt.show()"
   ]
  },
  {
   "cell_type": "markdown",
   "id": "60e73353-8a7f-4ce9-af4d-e497809f901e",
   "metadata": {},
   "source": [
    "#### (2)Analysing Profit in each month"
   ]
  },
  {
   "cell_type": "code",
   "execution_count": 136,
   "id": "f7f675cd-5abf-4785-ac07-0aafe30bcf93",
   "metadata": {},
   "outputs": [
    {
     "data": {
      "text/html": [
       "<div>\n",
       "<style scoped>\n",
       "    .dataframe tbody tr th:only-of-type {\n",
       "        vertical-align: middle;\n",
       "    }\n",
       "\n",
       "    .dataframe tbody tr th {\n",
       "        vertical-align: top;\n",
       "    }\n",
       "\n",
       "    .dataframe thead th {\n",
       "        text-align: right;\n",
       "    }\n",
       "</style>\n",
       "<table border=\"1\" class=\"dataframe\">\n",
       "  <thead>\n",
       "    <tr style=\"text-align: right;\">\n",
       "      <th></th>\n",
       "      <th>Month Number</th>\n",
       "      <th>Profit</th>\n",
       "    </tr>\n",
       "  </thead>\n",
       "  <tbody>\n",
       "    <tr>\n",
       "      <th>0</th>\n",
       "      <td>10</td>\n",
       "      <td>3678956.02</td>\n",
       "    </tr>\n",
       "    <tr>\n",
       "      <th>1</th>\n",
       "      <td>12</td>\n",
       "      <td>2980229.98</td>\n",
       "    </tr>\n",
       "    <tr>\n",
       "      <th>2</th>\n",
       "      <td>9</td>\n",
       "      <td>1975945.27</td>\n",
       "    </tr>\n",
       "    <tr>\n",
       "      <th>3</th>\n",
       "      <td>11</td>\n",
       "      <td>1632177.50</td>\n",
       "    </tr>\n",
       "    <tr>\n",
       "      <th>4</th>\n",
       "      <td>6</td>\n",
       "      <td>1544988.82</td>\n",
       "    </tr>\n",
       "    <tr>\n",
       "      <th>5</th>\n",
       "      <td>2</td>\n",
       "      <td>1208474.89</td>\n",
       "    </tr>\n",
       "    <tr>\n",
       "      <th>6</th>\n",
       "      <td>4</td>\n",
       "      <td>981667.08</td>\n",
       "    </tr>\n",
       "    <tr>\n",
       "      <th>7</th>\n",
       "      <td>7</td>\n",
       "      <td>959280.69</td>\n",
       "    </tr>\n",
       "    <tr>\n",
       "      <th>8</th>\n",
       "      <td>5</td>\n",
       "      <td>942270.06</td>\n",
       "    </tr>\n",
       "    <tr>\n",
       "      <th>9</th>\n",
       "      <td>1</td>\n",
       "      <td>935061.19</td>\n",
       "    </tr>\n",
       "    <tr>\n",
       "      <th>10</th>\n",
       "      <td>8</td>\n",
       "      <td>914843.92</td>\n",
       "    </tr>\n",
       "    <tr>\n",
       "      <th>11</th>\n",
       "      <td>3</td>\n",
       "      <td>694449.37</td>\n",
       "    </tr>\n",
       "  </tbody>\n",
       "</table>\n",
       "</div>"
      ],
      "text/plain": [
       "    Month Number      Profit\n",
       "0             10  3678956.02\n",
       "1             12  2980229.98\n",
       "2              9  1975945.27\n",
       "3             11  1632177.50\n",
       "4              6  1544988.82\n",
       "5              2  1208474.89\n",
       "6              4   981667.08\n",
       "7              7   959280.69\n",
       "8              5   942270.06\n",
       "9              1   935061.19\n",
       "10             8   914843.92\n",
       "11             3   694449.37"
      ]
     },
     "execution_count": 136,
     "metadata": {},
     "output_type": "execute_result"
    }
   ],
   "source": [
    "dfp=df.groupby('Month Number').sum()['Profit'].reset_index()\n",
    "dfp.sort_values(by='Profit', ascending=False, ignore_index=True)"
   ]
  },
  {
   "cell_type": "code",
   "execution_count": 137,
   "id": "acd867e5-65ea-42d5-9118-6d3c66c6e7cd",
   "metadata": {},
   "outputs": [
    {
     "data": {
      "image/png": "[encoded data removed]",
      "text/plain": [
       "<Figure size 500x300 with 1 Axes>"
      ]
     },
     "metadata": {},
     "output_type": "display_data"
    }
   ],
   "source": [
    "a=dfp['Month Number']\n",
    "w=1\n",
    "y1bar=np.arange(len(a))\n",
    "plt.figure(figsize=(5,3))\n",
    "plt.bar(dfp['Month Number'],dfp['Profit'],color='b')\n",
    "plt.xlabel('Month Number')\n",
    "plt.xticks(y1bar+w,a)\n",
    "plt.ylabel('Profit')\n",
    "plt.title('Profit in each Month ')\n",
    "plt.show()"
   ]
  },
  {
   "cell_type": "markdown",
   "id": "168bf88a-4cce-4567-8848-14fc1d7a69a4",
   "metadata": {},
   "source": [
    "#### Profit was highest in October and lowest in March"
   ]
  },
  {
   "cell_type": "markdown",
   "id": "b693c68d-7f2e-4004-b1b5-27f83adc9793",
   "metadata": {},
   "source": [
    "### (3) Analysing Sales and Profit based on Products."
   ]
  },
  {
   "cell_type": "code",
   "execution_count": 138,
   "id": "66f02cb2-abb4-48c8-bf4d-4a99ca25289e",
   "metadata": {},
   "outputs": [
    {
     "data": {
      "text/html": [
       "<div>\n",
       "<style scoped>\n",
       "    .dataframe tbody tr th:only-of-type {\n",
       "        vertical-align: middle;\n",
       "    }\n",
       "\n",
       "    .dataframe tbody tr th {\n",
       "        vertical-align: top;\n",
       "    }\n",
       "\n",
       "    .dataframe thead th {\n",
       "        text-align: right;\n",
       "    }\n",
       "</style>\n",
       "<table border=\"1\" class=\"dataframe\">\n",
       "  <thead>\n",
       "    <tr style=\"text-align: right;\">\n",
       "      <th></th>\n",
       "      <th>Product</th>\n",
       "      <th>Sales</th>\n",
       "      <th>Profit</th>\n",
       "    </tr>\n",
       "  </thead>\n",
       "  <tbody>\n",
       "    <tr>\n",
       "      <th>0</th>\n",
       "      <td>Paseo</td>\n",
       "      <td>33011143.96</td>\n",
       "      <td>5038535.46</td>\n",
       "    </tr>\n",
       "    <tr>\n",
       "      <th>1</th>\n",
       "      <td>VTT</td>\n",
       "      <td>20511921.02</td>\n",
       "      <td>3278088.02</td>\n",
       "    </tr>\n",
       "    <tr>\n",
       "      <th>2</th>\n",
       "      <td>Amarilla</td>\n",
       "      <td>17747116.07</td>\n",
       "      <td>3057984.07</td>\n",
       "    </tr>\n",
       "    <tr>\n",
       "      <th>3</th>\n",
       "      <td>Velo</td>\n",
       "      <td>18250059.47</td>\n",
       "      <td>2556904.97</td>\n",
       "    </tr>\n",
       "    <tr>\n",
       "      <th>4</th>\n",
       "      <td>Carretera</td>\n",
       "      <td>13815307.89</td>\n",
       "      <td>2289024.89</td>\n",
       "    </tr>\n",
       "    <tr>\n",
       "      <th>5</th>\n",
       "      <td>Montana</td>\n",
       "      <td>15390801.88</td>\n",
       "      <td>2227807.38</td>\n",
       "    </tr>\n",
       "  </tbody>\n",
       "</table>\n",
       "</div>"
      ],
      "text/plain": [
       "     Product        Sales      Profit\n",
       "0      Paseo  33011143.96  5038535.46\n",
       "1        VTT  20511921.02  3278088.02\n",
       "2   Amarilla  17747116.07  3057984.07\n",
       "3       Velo  18250059.47  2556904.97\n",
       "4  Carretera  13815307.89  2289024.89\n",
       "5    Montana  15390801.88  2227807.38"
      ]
     },
     "execution_count": 138,
     "metadata": {},
     "output_type": "execute_result"
    }
   ],
   "source": [
    "dfpro=df.groupby('Product').sum()[['Sales','Profit']].reset_index()\n",
    "dfpro.sort_values(by='Profit', ascending=False, ignore_index=True)"
   ]
  },
  {
   "cell_type": "code",
   "execution_count": 139,
   "id": "acbcb359-fcb4-446b-8ff8-fb164687b96f",
   "metadata": {},
   "outputs": [
    {
     "data": {
      "image/png": "[encoded data removed]",
      "text/plain": [
       "<Figure size 500x300 with 1 Axes>"
      ]
     },
     "metadata": {},
     "output_type": "display_data"
    }
   ],
   "source": [
    "x=dfpro['Product']\n",
    "y1=dfpro['Sales']\n",
    "y2=dfpro['Profit']\n",
    "\n",
    "w=0.2\n",
    "#locations to plot\n",
    "y1bar=np.arange(len(x))\n",
    "y2bar=[i+w for i in y1bar]\n",
    "\n",
    "plt.figure(figsize=(5,3))\n",
    "plt.bar(y1bar,y1,width=w,label='Sales',color='y')\n",
    "plt.bar(y2bar,y2,width=w,label='Profit',color='teal')\n",
    "\n",
    "\n",
    "plt.xticks(y1bar+w,x)\n",
    "plt.legend()\n",
    "plt.show()"
   ]
  },
  {
   "cell_type": "markdown",
   "id": "9e45986c-b268-473d-b6c3-692e9dd96dd4",
   "metadata": {},
   "source": [
    "#### Maximum sold Product is Paseo which has the highest sales and Profit.\n",
    "#### Lowest Profit is from the product Montana and lowest sales was for product Carretera\n"
   ]
  },
  {
   "cell_type": "markdown",
   "id": "0edf5c3f-2ddf-47db-a10d-67339f16dfee",
   "metadata": {},
   "source": [
    "### (4) Most Sold Product"
   ]
  },
  {
   "cell_type": "code",
   "execution_count": 140,
   "id": "d14f74b4-4501-4cf4-8992-db1302fbd205",
   "metadata": {},
   "outputs": [
    {
     "data": {
      "text/html": [
       "<div>\n",
       "<style scoped>\n",
       "    .dataframe tbody tr th:only-of-type {\n",
       "        vertical-align: middle;\n",
       "    }\n",
       "\n",
       "    .dataframe tbody tr th {\n",
       "        vertical-align: top;\n",
       "    }\n",
       "\n",
       "    .dataframe thead th {\n",
       "        text-align: right;\n",
       "    }\n",
       "</style>\n",
       "<table border=\"1\" class=\"dataframe\">\n",
       "  <thead>\n",
       "    <tr style=\"text-align: right;\">\n",
       "      <th></th>\n",
       "      <th>Product</th>\n",
       "      <th>Units Sold</th>\n",
       "    </tr>\n",
       "  </thead>\n",
       "  <tbody>\n",
       "    <tr>\n",
       "      <th>0</th>\n",
       "      <td>Paseo</td>\n",
       "      <td>338239.5</td>\n",
       "    </tr>\n",
       "    <tr>\n",
       "      <th>1</th>\n",
       "      <td>VTT</td>\n",
       "      <td>168783.0</td>\n",
       "    </tr>\n",
       "    <tr>\n",
       "      <th>2</th>\n",
       "      <td>Velo</td>\n",
       "      <td>162424.5</td>\n",
       "    </tr>\n",
       "    <tr>\n",
       "      <th>3</th>\n",
       "      <td>Amarilla</td>\n",
       "      <td>155315.0</td>\n",
       "    </tr>\n",
       "    <tr>\n",
       "      <th>4</th>\n",
       "      <td>Montana</td>\n",
       "      <td>154198.0</td>\n",
       "    </tr>\n",
       "    <tr>\n",
       "      <th>5</th>\n",
       "      <td>Carretera</td>\n",
       "      <td>146846.0</td>\n",
       "    </tr>\n",
       "  </tbody>\n",
       "</table>\n",
       "</div>"
      ],
      "text/plain": [
       "     Product  Units Sold\n",
       "0      Paseo    338239.5\n",
       "1        VTT    168783.0\n",
       "2       Velo    162424.5\n",
       "3   Amarilla    155315.0\n",
       "4    Montana    154198.0\n",
       "5  Carretera    146846.0"
      ]
     },
     "execution_count": 140,
     "metadata": {},
     "output_type": "execute_result"
    }
   ],
   "source": [
    "dfs=pd.DataFrame(df.groupby('Product').sum()[['Units Sold']]).reset_index()\n",
    "dfs.sort_values(['Units Sold'],ascending=False,ignore_index=True)"
   ]
  },
  {
   "cell_type": "code",
   "execution_count": 141,
   "id": "d3434737-ae1e-4283-8ba0-17bef86edb50",
   "metadata": {},
   "outputs": [
    {
     "data": {
      "image/png": "[encoded data removed]",
      "text/plain": [
       "<Figure size 640x480 with 1 Axes>"
      ]
     },
     "metadata": {},
     "output_type": "display_data"
    }
   ],
   "source": [
    "labels = dfs['Product']\n",
    "sizes = dfs['Units Sold']\n",
    "# Create the pie chart\n",
    "plt.pie(sizes, labels=labels,autopct=\"%2.2f%%\")\n",
    "# Customize the plot\n",
    "plt.title('Units Sold Per Product')\n",
    "# Display the plot\n",
    "plt.legend()\n",
    "plt.show()"
   ]
  },
  {
   "cell_type": "markdown",
   "id": "b782e778-720d-4531-b0af-1ec0b0f5d738",
   "metadata": {},
   "source": [
    "#### Paseo is the most sold product and Carretera is least sold\n"
   ]
  },
  {
   "cell_type": "markdown",
   "id": "1b463816-e5c1-46f7-a08f-e79c9f4e52ca",
   "metadata": {},
   "source": [
    "### (5)which country is highest in terms of sales?"
   ]
  },
  {
   "cell_type": "code",
   "execution_count": 142,
   "id": "8c09e1f4-3e0d-4428-af8c-a5d510ecc7f6",
   "metadata": {},
   "outputs": [
    {
     "data": {
      "text/html": [
       "<div>\n",
       "<style scoped>\n",
       "    .dataframe tbody tr th:only-of-type {\n",
       "        vertical-align: middle;\n",
       "    }\n",
       "\n",
       "    .dataframe tbody tr th {\n",
       "        vertical-align: top;\n",
       "    }\n",
       "\n",
       "    .dataframe thead th {\n",
       "        text-align: right;\n",
       "    }\n",
       "</style>\n",
       "<table border=\"1\" class=\"dataframe\">\n",
       "  <thead>\n",
       "    <tr style=\"text-align: right;\">\n",
       "      <th></th>\n",
       "      <th>Country</th>\n",
       "      <th>Sales</th>\n",
       "    </tr>\n",
       "  </thead>\n",
       "  <tbody>\n",
       "    <tr>\n",
       "      <th>0</th>\n",
       "      <td>UnitedStatesofAmerica</td>\n",
       "      <td>25029830.18</td>\n",
       "    </tr>\n",
       "    <tr>\n",
       "      <th>1</th>\n",
       "      <td>Canada</td>\n",
       "      <td>24887654.89</td>\n",
       "    </tr>\n",
       "    <tr>\n",
       "      <th>2</th>\n",
       "      <td>France</td>\n",
       "      <td>24354172.29</td>\n",
       "    </tr>\n",
       "    <tr>\n",
       "      <th>3</th>\n",
       "      <td>Germany</td>\n",
       "      <td>23505340.82</td>\n",
       "    </tr>\n",
       "    <tr>\n",
       "      <th>4</th>\n",
       "      <td>Mexico</td>\n",
       "      <td>20949352.11</td>\n",
       "    </tr>\n",
       "  </tbody>\n",
       "</table>\n",
       "</div>"
      ],
      "text/plain": [
       "                 Country        Sales\n",
       "0  UnitedStatesofAmerica  25029830.18\n",
       "1                 Canada  24887654.89\n",
       "2                 France  24354172.29\n",
       "3                Germany  23505340.82\n",
       "4                 Mexico  20949352.11"
      ]
     },
     "execution_count": 142,
     "metadata": {},
     "output_type": "execute_result"
    }
   ],
   "source": [
    "dfcon=df.groupby('Country').sum()['Sales'].reset_index()\n",
    "dfcon.sort_values(['Sales'],ascending=False,ignore_index=True)"
   ]
  },
  {
   "cell_type": "code",
   "execution_count": 143,
   "id": "7adc8a1e-9f5b-4c88-ac42-1bc2db1818a4",
   "metadata": {},
   "outputs": [
    {
     "data": {
      "text/plain": [
       "<function matplotlib.pyplot.show(close=None, block=None)>"
      ]
     },
     "execution_count": 143,
     "metadata": {},
     "output_type": "execute_result"
    },
    {
     "data": {
      "image/png": "[encoded data removed]",
      "text/plain": [
       "<Figure size 700x300 with 1 Axes>"
      ]
     },
     "metadata": {},
     "output_type": "display_data"
    }
   ],
   "source": [
    "w=0.3\n",
    "plt.figure(figsize=(7,3))\n",
    "plt.bar(dfcon['Country'],dfcon['Sales'],width=w)\n",
    "plt.xlabel('Country')\n",
    "plt.ylabel('Sales in $')\n",
    "plt.title('Sales in each Country')\n",
    "plt.show"
   ]
  },
  {
   "cell_type": "markdown",
   "id": "d6f5cf89-b49b-4653-9533-073208252699",
   "metadata": {},
   "source": [
    "## In terms of country sales is highest in United States of America and lowest in Mexico"
   ]
  },
  {
   "cell_type": "markdown",
   "id": "535a8b27-a653-4c13-bb8c-86e9962bc761",
   "metadata": {},
   "source": [
    "### (6) Sales and profit per segment"
   ]
  },
  {
   "cell_type": "code",
   "execution_count": 144,
   "id": "477d81c9-ca29-4c18-a8e3-bb36ba9ceb60",
   "metadata": {},
   "outputs": [
    {
     "data": {
      "text/html": [
       "<div>\n",
       "<style scoped>\n",
       "    .dataframe tbody tr th:only-of-type {\n",
       "        vertical-align: middle;\n",
       "    }\n",
       "\n",
       "    .dataframe tbody tr th {\n",
       "        vertical-align: top;\n",
       "    }\n",
       "\n",
       "    .dataframe thead th {\n",
       "        text-align: right;\n",
       "    }\n",
       "</style>\n",
       "<table border=\"1\" class=\"dataframe\">\n",
       "  <thead>\n",
       "    <tr style=\"text-align: right;\">\n",
       "      <th></th>\n",
       "      <th>Segment</th>\n",
       "      <th>Sales</th>\n",
       "      <th>Profit</th>\n",
       "    </tr>\n",
       "  </thead>\n",
       "  <tbody>\n",
       "    <tr>\n",
       "      <th>0</th>\n",
       "      <td>Government</td>\n",
       "      <td>52504260.68</td>\n",
       "      <td>11388173.18</td>\n",
       "    </tr>\n",
       "    <tr>\n",
       "      <th>1</th>\n",
       "      <td>SmallBusiness</td>\n",
       "      <td>42427918.50</td>\n",
       "      <td>4143168.50</td>\n",
       "    </tr>\n",
       "    <tr>\n",
       "      <th>2</th>\n",
       "      <td>Enterprise</td>\n",
       "      <td>19611694.38</td>\n",
       "      <td>940096.88</td>\n",
       "    </tr>\n",
       "    <tr>\n",
       "      <th>3</th>\n",
       "      <td>Midmarket</td>\n",
       "      <td>2381883.09</td>\n",
       "      <td>660103.09</td>\n",
       "    </tr>\n",
       "    <tr>\n",
       "      <th>4</th>\n",
       "      <td>ChannelPartners</td>\n",
       "      <td>1800593.64</td>\n",
       "      <td>1316803.14</td>\n",
       "    </tr>\n",
       "  </tbody>\n",
       "</table>\n",
       "</div>"
      ],
      "text/plain": [
       "           Segment        Sales       Profit\n",
       "0       Government  52504260.68  11388173.18\n",
       "1    SmallBusiness  42427918.50   4143168.50\n",
       "2       Enterprise  19611694.38    940096.88\n",
       "3        Midmarket   2381883.09    660103.09\n",
       "4  ChannelPartners   1800593.64   1316803.14"
      ]
     },
     "execution_count": 144,
     "metadata": {},
     "output_type": "execute_result"
    }
   ],
   "source": [
    "dfh=df.groupby('Segment').sum()[['Sales','Profit']].reset_index()\n",
    "dfh.sort_values(['Sales'],ascending=False,ignore_index=True)"
   ]
  },
  {
   "cell_type": "code",
   "execution_count": 145,
   "id": "a0cac85c-e779-40c3-8147-db4312a54cdf",
   "metadata": {},
   "outputs": [
    {
     "data": {
      "image/png": "[encoded data removed]",
      "text/plain": [
       "<Figure size 640x480 with 1 Axes>"
      ]
     },
     "metadata": {},
     "output_type": "display_data"
    }
   ],
   "source": [
    "plt.plot(dfh['Segment'],dfh['Sales'],label='Sales')\n",
    "plt.plot(dfh['Segment'],dfh['Profit'],label='Profit')\n",
    "plt.legend()\n",
    "plt.grid(True)\n",
    "plt.show()"
   ]
  },
  {
   "cell_type": "markdown",
   "id": "78107e65-4960-45cf-a80f-8c0922c49479",
   "metadata": {},
   "source": [
    "####  Sales highest in Government and lowest in channelpartners\n",
    "#### Profit highest in Government and lowest in MidMarket"
   ]
  },
  {
   "cell_type": "markdown",
   "id": "d1f80b4d-e76c-4266-b00e-d3dfceb420b9",
   "metadata": {},
   "source": [
    "### (7) Most and Least sold product in each countries"
   ]
  },
  {
   "cell_type": "code",
   "execution_count": 146,
   "id": "201eec62-4531-440c-ac25-a1843862e9e1",
   "metadata": {},
   "outputs": [
    {
     "data": {
      "text/html": [
       "<div>\n",
       "<style scoped>\n",
       "    .dataframe tbody tr th:only-of-type {\n",
       "        vertical-align: middle;\n",
       "    }\n",
       "\n",
       "    .dataframe tbody tr th {\n",
       "        vertical-align: top;\n",
       "    }\n",
       "\n",
       "    .dataframe thead th {\n",
       "        text-align: right;\n",
       "    }\n",
       "</style>\n",
       "<table border=\"1\" class=\"dataframe\">\n",
       "  <thead>\n",
       "    <tr style=\"text-align: right;\">\n",
       "      <th></th>\n",
       "      <th></th>\n",
       "      <th>Units Sold</th>\n",
       "    </tr>\n",
       "    <tr>\n",
       "      <th>Country</th>\n",
       "      <th>Product</th>\n",
       "      <th></th>\n",
       "    </tr>\n",
       "  </thead>\n",
       "  <tbody>\n",
       "    <tr>\n",
       "      <th rowspan=\"6\" valign=\"top\">Canada</th>\n",
       "      <th>Amarilla</th>\n",
       "      <td>29232.0</td>\n",
       "    </tr>\n",
       "    <tr>\n",
       "      <th>Montana</th>\n",
       "      <td>31488.5</td>\n",
       "    </tr>\n",
       "    <tr>\n",
       "      <th>Velo</th>\n",
       "      <td>32464.0</td>\n",
       "    </tr>\n",
       "    <tr>\n",
       "      <th>Carretera</th>\n",
       "      <td>34804.0</td>\n",
       "    </tr>\n",
       "    <tr>\n",
       "      <th>VTT</th>\n",
       "      <td>41248.5</td>\n",
       "    </tr>\n",
       "    <tr>\n",
       "      <th>Paseo</th>\n",
       "      <td>78191.5</td>\n",
       "    </tr>\n",
       "    <tr>\n",
       "      <th rowspan=\"6\" valign=\"top\">France</th>\n",
       "      <th>Montana</th>\n",
       "      <td>31282.0</td>\n",
       "    </tr>\n",
       "    <tr>\n",
       "      <th>Amarilla</th>\n",
       "      <td>31603.0</td>\n",
       "    </tr>\n",
       "    <tr>\n",
       "      <th>Carretera</th>\n",
       "      <td>34056.0</td>\n",
       "    </tr>\n",
       "    <tr>\n",
       "      <th>VTT</th>\n",
       "      <td>35774.5</td>\n",
       "    </tr>\n",
       "    <tr>\n",
       "      <th>Velo</th>\n",
       "      <td>36609.5</td>\n",
       "    </tr>\n",
       "    <tr>\n",
       "      <th>Paseo</th>\n",
       "      <td>71606.0</td>\n",
       "    </tr>\n",
       "    <tr>\n",
       "      <th rowspan=\"6\" valign=\"top\">Germany</th>\n",
       "      <th>Carretera</th>\n",
       "      <td>24944.0</td>\n",
       "    </tr>\n",
       "    <tr>\n",
       "      <th>Montana</th>\n",
       "      <td>28061.0</td>\n",
       "    </tr>\n",
       "    <tr>\n",
       "      <th>Amarilla</th>\n",
       "      <td>30614.5</td>\n",
       "    </tr>\n",
       "    <tr>\n",
       "      <th>Velo</th>\n",
       "      <td>31050.0</td>\n",
       "    </tr>\n",
       "    <tr>\n",
       "      <th>VTT</th>\n",
       "      <td>31131.0</td>\n",
       "    </tr>\n",
       "    <tr>\n",
       "      <th>Paseo</th>\n",
       "      <td>55693.5</td>\n",
       "    </tr>\n",
       "    <tr>\n",
       "      <th rowspan=\"6\" valign=\"top\">Mexico</th>\n",
       "      <th>VTT</th>\n",
       "      <td>26129.0</td>\n",
       "    </tr>\n",
       "    <tr>\n",
       "      <th>Velo</th>\n",
       "      <td>26540.0</td>\n",
       "    </tr>\n",
       "    <tr>\n",
       "      <th>Carretera</th>\n",
       "      <td>27224.0</td>\n",
       "    </tr>\n",
       "    <tr>\n",
       "      <th>Amarilla</th>\n",
       "      <td>28396.0</td>\n",
       "    </tr>\n",
       "    <tr>\n",
       "      <th>Montana</th>\n",
       "      <td>31754.0</td>\n",
       "    </tr>\n",
       "    <tr>\n",
       "      <th>Paseo</th>\n",
       "      <td>63282.0</td>\n",
       "    </tr>\n",
       "    <tr>\n",
       "      <th rowspan=\"6\" valign=\"top\">UnitedStatesofAmerica</th>\n",
       "      <th>Carretera</th>\n",
       "      <td>25818.0</td>\n",
       "    </tr>\n",
       "    <tr>\n",
       "      <th>Montana</th>\n",
       "      <td>31612.5</td>\n",
       "    </tr>\n",
       "    <tr>\n",
       "      <th>VTT</th>\n",
       "      <td>34500.0</td>\n",
       "    </tr>\n",
       "    <tr>\n",
       "      <th>Amarilla</th>\n",
       "      <td>35469.5</td>\n",
       "    </tr>\n",
       "    <tr>\n",
       "      <th>Velo</th>\n",
       "      <td>35761.0</td>\n",
       "    </tr>\n",
       "    <tr>\n",
       "      <th>Paseo</th>\n",
       "      <td>69466.5</td>\n",
       "    </tr>\n",
       "  </tbody>\n",
       "</table>\n",
       "</div>"
      ],
      "text/plain": [
       "                                 Units Sold\n",
       "Country               Product              \n",
       "Canada                Amarilla      29232.0\n",
       "                      Montana       31488.5\n",
       "                      Velo          32464.0\n",
       "                      Carretera     34804.0\n",
       "                      VTT           41248.5\n",
       "                      Paseo         78191.5\n",
       "France                Montana       31282.0\n",
       "                      Amarilla      31603.0\n",
       "                      Carretera     34056.0\n",
       "                      VTT           35774.5\n",
       "                      Velo          36609.5\n",
       "                      Paseo         71606.0\n",
       "Germany               Carretera     24944.0\n",
       "                      Montana       28061.0\n",
       "                      Amarilla      30614.5\n",
       "                      Velo          31050.0\n",
       "                      VTT           31131.0\n",
       "                      Paseo         55693.5\n",
       "Mexico                VTT           26129.0\n",
       "                      Velo          26540.0\n",
       "                      Carretera     27224.0\n",
       "                      Amarilla      28396.0\n",
       "                      Montana       31754.0\n",
       "                      Paseo         63282.0\n",
       "UnitedStatesofAmerica Carretera     25818.0\n",
       "                      Montana       31612.5\n",
       "                      VTT           34500.0\n",
       "                      Amarilla      35469.5\n",
       "                      Velo          35761.0\n",
       "                      Paseo         69466.5"
      ]
     },
     "execution_count": 146,
     "metadata": {},
     "output_type": "execute_result"
    }
   ],
   "source": [
    "dfn=pd.DataFrame(df.groupby(['Country','Product']).sum()[['Units Sold']])\n",
    "dfn.sort_values(['Country','Units Sold'])"
   ]
  },
  {
   "cell_type": "markdown",
   "id": "74084459-7e87-4fc6-a87d-da3fa93b076f",
   "metadata": {},
   "source": [
    "#### In Canada,France,Germany,Mexico and\tUnited States of America,the least sold products are Amarilla,Montana,Carretera,VTT and Carretera respectively. \n",
    "#### The most sold product in all the 5 countries is Paseo.\n"
   ]
  },
  {
   "cell_type": "markdown",
   "id": "5f8526ba-ca6a-4e26-b0db-b2a7bea81197",
   "metadata": {},
   "source": [
    "### (8) Maximum and minimum profit"
   ]
  },
  {
   "cell_type": "code",
   "execution_count": 147,
   "id": "21ebb7f3-b701-4ff0-95df-3436ca5f116a",
   "metadata": {},
   "outputs": [
    {
     "data": {
      "text/html": [
       "<div>\n",
       "<style scoped>\n",
       "    .dataframe tbody tr th:only-of-type {\n",
       "        vertical-align: middle;\n",
       "    }\n",
       "\n",
       "    .dataframe tbody tr th {\n",
       "        vertical-align: top;\n",
       "    }\n",
       "\n",
       "    .dataframe thead th {\n",
       "        text-align: right;\n",
       "    }\n",
       "</style>\n",
       "<table border=\"1\" class=\"dataframe\">\n",
       "  <thead>\n",
       "    <tr style=\"text-align: right;\">\n",
       "      <th></th>\n",
       "      <th>Segment</th>\n",
       "      <th>Country</th>\n",
       "      <th>Product</th>\n",
       "      <th>Discount Band</th>\n",
       "      <th>Units Sold</th>\n",
       "      <th>Manufacturing Price</th>\n",
       "      <th>Sale Price</th>\n",
       "      <th>Gross Sales</th>\n",
       "      <th>Discounts</th>\n",
       "      <th>Sales</th>\n",
       "      <th>COGS</th>\n",
       "      <th>Profit</th>\n",
       "      <th>Date</th>\n",
       "      <th>Month Number</th>\n",
       "      <th>Month Name</th>\n",
       "      <th>Year</th>\n",
       "    </tr>\n",
       "  </thead>\n",
       "  <tbody>\n",
       "    <tr>\n",
       "      <th>192</th>\n",
       "      <td>Government</td>\n",
       "      <td>UnitedStatesofAmerica</td>\n",
       "      <td>Paseo</td>\n",
       "      <td>Low</td>\n",
       "      <td>3450.0</td>\n",
       "      <td>10.0</td>\n",
       "      <td>350.0</td>\n",
       "      <td>1207500.0</td>\n",
       "      <td>48300.0</td>\n",
       "      <td>1159200.0</td>\n",
       "      <td>897000.0</td>\n",
       "      <td>262200.0</td>\n",
       "      <td>7/1/2014</td>\n",
       "      <td>7</td>\n",
       "      <td>July</td>\n",
       "      <td>2014</td>\n",
       "    </tr>\n",
       "  </tbody>\n",
       "</table>\n",
       "</div>"
      ],
      "text/plain": [
       "        Segment                Country Product Discount Band  Units Sold  \\\n",
       "192  Government  UnitedStatesofAmerica   Paseo           Low      3450.0   \n",
       "\n",
       "     Manufacturing Price  Sale Price  Gross Sales  Discounts      Sales  \\\n",
       "192                 10.0       350.0    1207500.0    48300.0  1159200.0   \n",
       "\n",
       "         COGS    Profit      Date  Month Number Month Name  Year  \n",
       "192  897000.0  262200.0  7/1/2014             7       July  2014  "
      ]
     },
     "execution_count": 147,
     "metadata": {},
     "output_type": "execute_result"
    }
   ],
   "source": [
    "df[df[\"Profit\"] == df[\"Profit\"].max()]"
   ]
  },
  {
   "cell_type": "markdown",
   "id": "37a2ef72-1dd9-493f-ba58-a56c53aa9dbc",
   "metadata": {},
   "source": [
    "#### Maximum profit was made by government segment of United states of America in the month of July for product Paseo"
   ]
  },
  {
   "cell_type": "code",
   "execution_count": 148,
   "id": "ef60dc68-bdfd-46c9-aaea-5c65e7ef011d",
   "metadata": {},
   "outputs": [
    {
     "data": {
      "text/html": [
       "<div>\n",
       "<style scoped>\n",
       "    .dataframe tbody tr th:only-of-type {\n",
       "        vertical-align: middle;\n",
       "    }\n",
       "\n",
       "    .dataframe tbody tr th {\n",
       "        vertical-align: top;\n",
       "    }\n",
       "\n",
       "    .dataframe thead th {\n",
       "        text-align: right;\n",
       "    }\n",
       "</style>\n",
       "<table border=\"1\" class=\"dataframe\">\n",
       "  <thead>\n",
       "    <tr style=\"text-align: right;\">\n",
       "      <th></th>\n",
       "      <th>Segment</th>\n",
       "      <th>Country</th>\n",
       "      <th>Product</th>\n",
       "      <th>Discount Band</th>\n",
       "      <th>Units Sold</th>\n",
       "      <th>Manufacturing Price</th>\n",
       "      <th>Sale Price</th>\n",
       "      <th>Gross Sales</th>\n",
       "      <th>Discounts</th>\n",
       "      <th>Sales</th>\n",
       "      <th>COGS</th>\n",
       "      <th>Profit</th>\n",
       "      <th>Date</th>\n",
       "      <th>Month Number</th>\n",
       "      <th>Month Name</th>\n",
       "      <th>Year</th>\n",
       "    </tr>\n",
       "  </thead>\n",
       "  <tbody>\n",
       "    <tr>\n",
       "      <th>615</th>\n",
       "      <td>Government</td>\n",
       "      <td>Germany</td>\n",
       "      <td>Carretera</td>\n",
       "      <td>High</td>\n",
       "      <td>280.0</td>\n",
       "      <td>3.0</td>\n",
       "      <td>7.0</td>\n",
       "      <td>1960.0</td>\n",
       "      <td>274.4</td>\n",
       "      <td>1685.6</td>\n",
       "      <td>1400.0</td>\n",
       "      <td>285.6</td>\n",
       "      <td>12/1/2014</td>\n",
       "      <td>12</td>\n",
       "      <td>December</td>\n",
       "      <td>2014</td>\n",
       "    </tr>\n",
       "    <tr>\n",
       "      <th>622</th>\n",
       "      <td>Government</td>\n",
       "      <td>Germany</td>\n",
       "      <td>VTT</td>\n",
       "      <td>High</td>\n",
       "      <td>280.0</td>\n",
       "      <td>250.0</td>\n",
       "      <td>7.0</td>\n",
       "      <td>1960.0</td>\n",
       "      <td>274.4</td>\n",
       "      <td>1685.6</td>\n",
       "      <td>1400.0</td>\n",
       "      <td>285.6</td>\n",
       "      <td>12/1/2014</td>\n",
       "      <td>12</td>\n",
       "      <td>December</td>\n",
       "      <td>2014</td>\n",
       "    </tr>\n",
       "  </tbody>\n",
       "</table>\n",
       "</div>"
      ],
      "text/plain": [
       "        Segment  Country    Product Discount Band  Units Sold  \\\n",
       "615  Government  Germany  Carretera          High       280.0   \n",
       "622  Government  Germany        VTT          High       280.0   \n",
       "\n",
       "     Manufacturing Price  Sale Price  Gross Sales  Discounts   Sales    COGS  \\\n",
       "615                  3.0         7.0       1960.0      274.4  1685.6  1400.0   \n",
       "622                250.0         7.0       1960.0      274.4  1685.6  1400.0   \n",
       "\n",
       "     Profit       Date  Month Number Month Name  Year  \n",
       "615   285.6  12/1/2014            12   December  2014  \n",
       "622   285.6  12/1/2014            12   December  2014  "
      ]
     },
     "execution_count": 148,
     "metadata": {},
     "output_type": "execute_result"
    }
   ],
   "source": [
    "df[df[\"Profit\"] == df[\"Profit\"].min()]"
   ]
  },
  {
   "cell_type": "markdown",
   "id": "2713a3e4-b452-4c68-b32c-9777f691ce91",
   "metadata": {},
   "source": [
    "#### Minimum profit was made by government segment of Germany in the month of December for products Carretera and VTT"
   ]
  },
  {
   "cell_type": "markdown",
   "id": "2c99ab2f-b9e7-425f-87a0-4bcaa36d77ee",
   "metadata": {},
   "source": [
    "### (8) Maximum and minimum Cost of goods sold (COGS) \n",
    "##### Cost of goods sold (COGS) refers to the direct costs of producing the goods sold by a company. This amount includes the cost of the materials and labor directly used to create the good."
   ]
  },
  {
   "cell_type": "code",
   "execution_count": 149,
   "id": "06aa6031-4a36-44bc-ae39-910250019fc3",
   "metadata": {},
   "outputs": [
    {
     "data": {
      "text/html": [
       "<div>\n",
       "<style scoped>\n",
       "    .dataframe tbody tr th:only-of-type {\n",
       "        vertical-align: middle;\n",
       "    }\n",
       "\n",
       "    .dataframe tbody tr th {\n",
       "        vertical-align: top;\n",
       "    }\n",
       "\n",
       "    .dataframe thead th {\n",
       "        text-align: right;\n",
       "    }\n",
       "</style>\n",
       "<table border=\"1\" class=\"dataframe\">\n",
       "  <thead>\n",
       "    <tr style=\"text-align: right;\">\n",
       "      <th></th>\n",
       "      <th>Segment</th>\n",
       "      <th>Country</th>\n",
       "      <th>Product</th>\n",
       "      <th>Discount Band</th>\n",
       "      <th>Units Sold</th>\n",
       "      <th>Manufacturing Price</th>\n",
       "      <th>Sale Price</th>\n",
       "      <th>Gross Sales</th>\n",
       "      <th>Discounts</th>\n",
       "      <th>Sales</th>\n",
       "      <th>COGS</th>\n",
       "      <th>Profit</th>\n",
       "      <th>Date</th>\n",
       "      <th>Month Number</th>\n",
       "      <th>Month Name</th>\n",
       "      <th>Year</th>\n",
       "    </tr>\n",
       "  </thead>\n",
       "  <tbody>\n",
       "    <tr>\n",
       "      <th>405</th>\n",
       "      <td>SmallBusiness</td>\n",
       "      <td>Canada</td>\n",
       "      <td>Montana</td>\n",
       "      <td>Medium</td>\n",
       "      <td>3802.5</td>\n",
       "      <td>5.0</td>\n",
       "      <td>300.0</td>\n",
       "      <td>1140750.0</td>\n",
       "      <td>102667.5</td>\n",
       "      <td>1038082.5</td>\n",
       "      <td>950625.0</td>\n",
       "      <td>87457.5</td>\n",
       "      <td>4/1/2014</td>\n",
       "      <td>4</td>\n",
       "      <td>April</td>\n",
       "      <td>2014</td>\n",
       "    </tr>\n",
       "  </tbody>\n",
       "</table>\n",
       "</div>"
      ],
      "text/plain": [
       "           Segment Country  Product Discount Band  Units Sold  \\\n",
       "405  SmallBusiness  Canada  Montana        Medium      3802.5   \n",
       "\n",
       "     Manufacturing Price  Sale Price  Gross Sales  Discounts      Sales  \\\n",
       "405                  5.0       300.0    1140750.0   102667.5  1038082.5   \n",
       "\n",
       "         COGS   Profit      Date  Month Number Month Name  Year  \n",
       "405  950625.0  87457.5  4/1/2014             4      April  2014  "
      ]
     },
     "execution_count": 149,
     "metadata": {},
     "output_type": "execute_result"
    }
   ],
   "source": [
    "df[df[\"COGS\"] == df[\"COGS\"].max()]"
   ]
  },
  {
   "cell_type": "markdown",
   "id": "f105e1c4-3f1e-41a2-9093-1fc7f4967740",
   "metadata": {},
   "source": [
    "#### COGS is maximum for the product Montana in Canada in small business segment"
   ]
  },
  {
   "cell_type": "code",
   "execution_count": 150,
   "id": "cfc6ed77-2d54-4c94-864d-2b5a7b7c805c",
   "metadata": {
    "scrolled": true
   },
   "outputs": [
    {
     "data": {
      "text/html": [
       "<div>\n",
       "<style scoped>\n",
       "    .dataframe tbody tr th:only-of-type {\n",
       "        vertical-align: middle;\n",
       "    }\n",
       "\n",
       "    .dataframe tbody tr th {\n",
       "        vertical-align: top;\n",
       "    }\n",
       "\n",
       "    .dataframe thead th {\n",
       "        text-align: right;\n",
       "    }\n",
       "</style>\n",
       "<table border=\"1\" class=\"dataframe\">\n",
       "  <thead>\n",
       "    <tr style=\"text-align: right;\">\n",
       "      <th></th>\n",
       "      <th>Segment</th>\n",
       "      <th>Country</th>\n",
       "      <th>Product</th>\n",
       "      <th>Discount Band</th>\n",
       "      <th>Units Sold</th>\n",
       "      <th>Manufacturing Price</th>\n",
       "      <th>Sale Price</th>\n",
       "      <th>Gross Sales</th>\n",
       "      <th>Discounts</th>\n",
       "      <th>Sales</th>\n",
       "      <th>COGS</th>\n",
       "      <th>Profit</th>\n",
       "      <th>Date</th>\n",
       "      <th>Month Number</th>\n",
       "      <th>Month Name</th>\n",
       "      <th>Year</th>\n",
       "    </tr>\n",
       "  </thead>\n",
       "  <tbody>\n",
       "    <tr>\n",
       "      <th>454</th>\n",
       "      <td>ChannelPartners</td>\n",
       "      <td>France</td>\n",
       "      <td>Amarilla</td>\n",
       "      <td>Medium</td>\n",
       "      <td>306.0</td>\n",
       "      <td>260.0</td>\n",
       "      <td>12.0</td>\n",
       "      <td>3672.0</td>\n",
       "      <td>330.48</td>\n",
       "      <td>3341.52</td>\n",
       "      <td>918.0</td>\n",
       "      <td>2423.52</td>\n",
       "      <td>12/1/2013</td>\n",
       "      <td>12</td>\n",
       "      <td>December</td>\n",
       "      <td>2013</td>\n",
       "    </tr>\n",
       "  </tbody>\n",
       "</table>\n",
       "</div>"
      ],
      "text/plain": [
       "             Segment Country   Product Discount Band  Units Sold  \\\n",
       "454  ChannelPartners  France  Amarilla        Medium       306.0   \n",
       "\n",
       "     Manufacturing Price  Sale Price  Gross Sales  Discounts    Sales   COGS  \\\n",
       "454                260.0        12.0       3672.0     330.48  3341.52  918.0   \n",
       "\n",
       "      Profit       Date  Month Number Month Name  Year  \n",
       "454  2423.52  12/1/2013            12   December  2013  "
      ]
     },
     "execution_count": 150,
     "metadata": {},
     "output_type": "execute_result"
    }
   ],
   "source": [
    "df[df[\"COGS\"] == df[\"COGS\"].min()]"
   ]
  },
  {
   "cell_type": "markdown",
   "id": "6dfe7f0b-4fd8-4914-bca8-aafcc5ab290e",
   "metadata": {},
   "source": [
    "#### COGS is minimum for the product Amarilla in France in ChannelPartners segment"
   ]
  },
  {
   "cell_type": "code",
   "execution_count": null,
   "id": "603c2c1f-efc4-4b1d-8c54-bc0823d49ed8",
   "metadata": {},
   "outputs": [],
   "source": []
  },
  {
   "cell_type": "code",
   "execution_count": null,
   "id": "d5bb28bf-adac-451b-b0c8-165126fdf957",
   "metadata": {},
   "outputs": [],
   "source": []
  },
  {
   "cell_type": "code",
   "execution_count": null,
   "id": "67ad3b3e-acbb-4a7d-8883-00c46009c9b2",
   "metadata": {},
   "outputs": [],
   "source": []
  },
  {
   "cell_type": "code",
   "execution_count": null,
   "id": "1e826183-b5ef-480f-88c3-85f884bb9246",
   "metadata": {},
   "outputs": [],
   "source": []
  },
  {
   "cell_type": "code",
   "execution_count": null,
   "id": "e06a2461-dc47-4ae7-a0f7-79b903d53941",
   "metadata": {},
   "outputs": [],
   "source": []
  },
  {
   "cell_type": "code",
   "execution_count": null,
   "id": "b0559a8e-4f74-4679-af4f-99f1cd6e6d24",
   "metadata": {},
   "outputs": [],
   "source": []
  },
  {
   "cell_type": "code",
   "execution_count": null,
   "id": "d40fbd2e-89d3-4883-a7c0-40fc931c0540",
   "metadata": {},
   "outputs": [],
   "source": []
  },
  {
   "cell_type": "code",
   "execution_count": null,
   "id": "1f3e8dd8-1a48-4a08-bf29-beb24ef45e2f",
   "metadata": {},
   "outputs": [],
   "source": []
  },
  {
   "cell_type": "code",
   "execution_count": null,
   "id": "7413605c-710d-4796-a2c8-134be17a2d41",
   "metadata": {},
   "outputs": [],
   "source": []
  },
  {
   "cell_type": "code",
   "execution_count": null,
   "id": "7498e01c-5cce-4f2c-91eb-4634a0083a3e",
   "metadata": {},
   "outputs": [],
   "source": []
  }
 ],
 "metadata": {
  "kernelspec": {
   "display_name": "Python 3 (ipykernel)",
   "language": "python",
   "name": "python3"
  },
  "language_info": {
   "codemirror_mode": {
    "name": "ipython",
    "version": 3
   },
   "file_extension": ".py",
   "mimetype": "text/x-python",
   "name": "python",
   "nbconvert_exporter": "python",
   "pygments_lexer": "ipython3",
   "version": "3.11.2"
  }
 },
 "nbformat": 4,
 "nbformat_minor": 5
}
